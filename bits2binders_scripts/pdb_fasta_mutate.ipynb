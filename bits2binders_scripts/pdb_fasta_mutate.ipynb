{
 "cells": [
  {
   "cell_type": "code",
   "execution_count": 1,
   "metadata": {},
   "outputs": [],
   "source": [
    "from Bio.PDB import PDBParser, PDBIO\n",
    "from Bio.SeqUtils import seq1"
   ]
  },
  {
   "cell_type": "code",
   "execution_count": null,
   "metadata": {},
   "outputs": [],
   "source": [
    "# Specify the PDB file path\n",
    "pdb_inpath = './input_pdbs/'\n",
    "pdb_outpath = \n"
   ]
  },
  {
   "cell_type": "code",
   "execution_count": 2,
   "metadata": {},
   "outputs": [
    {
     "name": "stdout",
     "output_type": "stream",
     "text": [
      "Chain A: GGGGGGGGGGGGGGGGGGGGGGGGGGGGGGGG\n",
      "Chain B: ISHFLKMESLNFIRAHTPYINIYNCEPANPSEKNSPSTQYCYSIPAGIYAISHFLKMESLNFIRAHTPYINIYNCEPANPSEKNSPSTQYCYSIPAGIYA\n"
     ]
    }
   ],
   "source": [
    "from Bio.PDB import PDBParser\n",
    "from Bio.SeqUtils import seq1\n",
    "\n",
    "# Function to extract sequences from a PDB structure\n",
    "def extract_sequences(pdb_file):\n",
    "    parser = PDBParser(QUIET=True)\n",
    "    structure = parser.get_structure(\"PDB\", pdb_file)\n",
    "    \n",
    "    chain_sequences = {}\n",
    "    \n",
    "    for model in structure:\n",
    "        for chain in model:\n",
    "            # Get all residues from the chain\n",
    "            residues = [residue for residue in chain if residue.get_id()[0] == ' ']  # Exclude heteroatoms\n",
    "            sequence = ''.join([seq1(residue.resname) for residue in residues])\n",
    "            chain_sequences[chain.id] = sequence\n",
    "    \n",
    "    return chain_sequences\n",
    "\n",
    "\n",
    "# Extract and print chain sequences\n",
    "sequences = extract_sequences(pdb_file_path)\n",
    "\n",
    "for chain_id, sequence in sequences.items():\n",
    "    print(f\"Chain {chain_id}: {sequence}\")\n"
   ]
  },
  {
   "cell_type": "code",
   "execution_count": null,
   "metadata": {},
   "outputs": [],
   "source": [
    "\n",
    "# Load PDB file\n",
    "pdb_file = \"your_structure.pdb\"  # Path to your PDB file\n",
    "output_pdb = \"mutated_structure.pdb\"  # Path for the output PDB\n",
    "\n",
    "# New FASTA sequence (single-letter format)\n",
    "new_sequence = \"MASDFLGATSD...\"  # Replace with your new FASTA sequence\n",
    "chain_id = \"A\"  # The chain you're replacing\n",
    "\n",
    "# Parse PDB\n",
    "parser = PDBParser()\n",
    "structure = parser.get_structure(\"PDB\", pdb_file)\n",
    "model = structure[0]  # Assuming single model\n",
    "\n",
    "# Identify the chain\n",
    "chain = model[chain_id]\n",
    "\n",
    "# Mutate residues based on new FASTA sequence\n",
    "for res_index, residue in enumerate(chain.get_residues()):\n",
    "    if res_index < len(new_sequence):\n",
    "        # Mutate the residue's amino acid\n",
    "        new_residue = seq1(new_sequence[res_index])\n",
    "        if residue.get_resname() != new_residue:\n",
    "            print(f\"Mutating {residue.get_resname()} to {new_residue} at position {res_index + 1}\")\n",
    "            residue.resname = new_residue\n",
    "\n",
    "# Save mutated PDB\n",
    "io = PDBIO()\n",
    "io.set_structure(structure)\n",
    "io.save(output_pdb)\n",
    "print(f\"Mutated PDB saved to {output_pdb}\")\n"
   ]
  }
 ],
 "metadata": {
  "kernelspec": {
   "display_name": "mlfold",
   "language": "python",
   "name": "python3"
  },
  "language_info": {
   "codemirror_mode": {
    "name": "ipython",
    "version": 3
   },
   "file_extension": ".py",
   "mimetype": "text/x-python",
   "name": "python",
   "nbconvert_exporter": "python",
   "pygments_lexer": "ipython3",
   "version": "3.10.15"
  }
 },
 "nbformat": 4,
 "nbformat_minor": 2
}
